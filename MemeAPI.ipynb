{
  "nbformat": 4,
  "nbformat_minor": 0,
  "metadata": {
    "colab": {
      "name": "MemeAPI.ipynb",
      "provenance": [],
      "collapsed_sections": [],
      "include_colab_link": true
    },
    "kernelspec": {
      "name": "python3",
      "display_name": "Python 3"
    }
  },
  "cells": [
    {
      "cell_type": "markdown",
      "metadata": {
        "id": "view-in-github",
        "colab_type": "text"
      },
      "source": [
        "<a href=\"https://colab.research.google.com/github/jprenosil/MemeAPI/blob/master/MemeAPI.ipynb\" target=\"_parent\"><img src=\"https://colab.research.google.com/assets/colab-badge.svg\" alt=\"Open In Colab\"/></a>"
      ]
    },
    {
      "cell_type": "code",
      "metadata": {
        "id": "uHBmvYvW035v",
        "colab_type": "code",
        "colab": {}
      },
      "source": [
        "import requests"
      ],
      "execution_count": 0,
      "outputs": []
    },
    {
      "cell_type": "code",
      "metadata": {
        "id": "j7mqaYfB1GRx",
        "colab_type": "code",
        "colab": {}
      },
      "source": [
        "URL = 'https://meme-api.herokuapp.com/gimme/KentStateUniversity'\n"
      ],
      "execution_count": 0,
      "outputs": []
    },
    {
      "cell_type": "code",
      "metadata": {
        "id": "NjMIRrCu15No",
        "colab_type": "code",
        "colab": {}
      },
      "source": [
        "first_response = requests.get(url = URL)"
      ],
      "execution_count": 0,
      "outputs": []
    },
    {
      "cell_type": "code",
      "metadata": {
        "id": "-Itg8oa83ATb",
        "colab_type": "code",
        "colab": {
          "base_uri": "https://localhost:8080/",
          "height": 55
        },
        "outputId": "bca3db7b-0461-4f35-b3ce-72e01376e004"
      },
      "source": [
        "print(first_response.json())"
      ],
      "execution_count": 37,
      "outputs": [
        {
          "output_type": "stream",
          "text": [
            "{'postLink': 'https://redd.it/dknu03', 'subreddit': 'KentStateUniversity', 'title': 'All my best friends are dogs', 'url': 'https://i.redd.it/ywchnwtvrqt31.jpg'}\n"
          ],
          "name": "stdout"
        }
      ]
    }
  ]
}